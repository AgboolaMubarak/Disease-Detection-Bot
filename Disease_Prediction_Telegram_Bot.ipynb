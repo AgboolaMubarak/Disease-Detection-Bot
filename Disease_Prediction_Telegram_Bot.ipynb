{
  "nbformat": 4,
  "nbformat_minor": 0,
  "metadata": {
    "colab": {
      "provenance": [],
      "authorship_tag": "ABX9TyM7Um+JVnSMSNdJk65+euHb",
      "include_colab_link": true
    },
    "kernelspec": {
      "name": "python3",
      "display_name": "Python 3"
    },
    "language_info": {
      "name": "python"
    }
  },
  "cells": [
    {
      "cell_type": "markdown",
      "metadata": {
        "id": "view-in-github",
        "colab_type": "text"
      },
      "source": [
        "<a href=\"https://colab.research.google.com/github/AgboolaMubarak/Disease-Detection-Bot/blob/main/Disease_Prediction_Telegram_Bot.ipynb\" target=\"_parent\"><img src=\"https://colab.research.google.com/assets/colab-badge.svg\" alt=\"Open In Colab\"/></a>"
      ]
    },
    {
      "cell_type": "code",
      "execution_count": 1,
      "metadata": {
        "id": "_d9PYZd4wq-o"
      },
      "outputs": [],
      "source": [
        "import numpy as np\n",
        "import pandas as pd"
      ]
    },
    {
      "cell_type": "code",
      "source": [
        "l1=['back_pain','constipation','abdominal_pain','diarrhoea','mild_fever','yellow_urine',\n",
        "'yellowing_of_eyes','acute_liver_failure','fluid_overload','swelling_of_stomach',\n",
        "'swelled_lymph_nodes','malaise','blurred_and_distorted_vision','phlegm','throat_irritation',\n",
        "'redness_of_eyes','sinus_pressure','runny_nose','congestion','chest_pain','weakness_in_limbs',\n",
        "'fast_heart_rate','pain_during_bowel_movements','pain_in_anal_region','bloody_stool',\n",
        "'irritation_in_anus','neck_pain','dizziness','cramps','bruising','obesity','swollen_legs',\n",
        "'swollen_blood_vessels','puffy_face_and_eyes','enlarged_thyroid','brittle_nails',\n",
        "'swollen_extremeties','excessive_hunger','extra_marital_contacts','drying_and_tingling_lips',\n",
        "'slurred_speech','knee_pain','hip_joint_pain','muscle_weakness','stiff_neck','swelling_joints',\n",
        "'movement_stiffness','spinning_movements','loss_of_balance','unsteadiness',\n",
        "'weakness_of_one_body_side','loss_of_smell','bladder_discomfort','foul_smell_of urine',\n",
        "'continuous_feel_of_urine','passage_of_gases','internal_itching','toxic_look_(typhos)',\n",
        "'depression','irritability','muscle_pain','altered_sensorium','red_spots_over_body','belly_pain',\n",
        "'abnormal_menstruation','dischromic _patches','watering_from_eyes','increased_appetite','polyuria','family_history','mucoid_sputum',\n",
        "'rusty_sputum','lack_of_concentration','visual_disturbances','receiving_blood_transfusion',\n",
        "'receiving_unsterile_injections','coma','stomach_bleeding','distention_of_abdomen',\n",
        "'history_of_alcohol_consumption','fluid_overload','blood_in_sputum','prominent_veins_on_calf',\n",
        "'palpitations','painful_walking','pus_filled_pimples','blackheads','scurring','skin_peeling',\n",
        "'silver_like_dusting','small_dents_in_nails','inflammatory_nails','blister','red_sore_around_nose',\n",
        "'yellow_crust_ooze']\n"
      ],
      "metadata": {
        "id": "NCtYzuN3xNc_"
      },
      "execution_count": 2,
      "outputs": []
    },
    {
      "cell_type": "code",
      "source": [
        "disease=['Fungal infection','Allergy','GERD','Chronic cholestasis','Drug Reaction',\n",
        "'Peptic ulcer diseae','AIDS','Diabetes','Gastroenteritis','Bronchial Asthma','Hypertension',\n",
        "' Migraine','Cervical spondylosis',\n",
        "'Paralysis (brain hemorrhage)','Jaundice','Malaria','Chicken pox','Dengue','Typhoid','hepatitis A',\n",
        "'Hepatitis B','Hepatitis C','Hepatitis D','Hepatitis E','Alcoholic hepatitis','Tuberculosis',\n",
        "'Common Cold','Pneumonia','Dimorphic hemmorhoids(piles)',\n",
        "'Heartattack','Varicoseveins','Hypothyroidism','Hyperthyroidism','Hypoglycemia','Osteoarthristis',\n",
        "'Arthritis','(vertigo) Paroymsal  Positional Vertigo','Acne','Urinary tract infection','Psoriasis',\n",
        "'Impetigo']\n",
        "\n",
        "l2=[]\n",
        "for x in range(0,len(l1)):\n",
        "    l2.append(0)"
      ],
      "metadata": {
        "id": "YC2htPW_x7X1"
      },
      "execution_count": 3,
      "outputs": []
    },
    {
      "cell_type": "code",
      "source": [
        "df=pd.read_csv(\"Training.csv\")\n",
        "\n",
        "df.replace({'prognosis':{'Fungal infection':0,'Allergy':1,'GERD':2,'Chronic cholestasis':3,'Drug Reaction':4,\n",
        "'Peptic ulcer diseae':5,'AIDS':6,'Diabetes ':7,'Gastroenteritis':8,'Bronchial Asthma':9,'Hypertension ':10,\n",
        "'Migraine':11,'Cervical spondylosis':12,\n",
        "'Paralysis (brain hemorrhage)':13,'Jaundice':14,'Malaria':15,'Chicken pox':16,'Dengue':17,'Typhoid':18,'hepatitis A':19,\n",
        "'Hepatitis B':20,'Hepatitis C':21,'Hepatitis D':22,'Hepatitis E':23,'Alcoholic hepatitis':24,'Tuberculosis':25,\n",
        "'Common Cold':26,'Pneumonia':27,'Dimorphic hemmorhoids(piles)':28,'Heart attack':29,'Varicose veins':30,'Hypothyroidism':31,\n",
        "'Hyperthyroidism':32,'Hypoglycemia':33,'Osteoarthristis':34,'Arthritis':35,\n",
        "'(vertigo) Paroymsal  Positional Vertigo':36,'Acne':37,'Urinary tract infection':38,'Psoriasis':39,\n",
        "'Impetigo':40}},inplace=True)\n",
        "\n",
        "# print(df.head())\n",
        "\n",
        "X= df[l1]\n",
        "\n",
        "y = df[[\"prognosis\"]]\n",
        "np.ravel(y)"
      ],
      "metadata": {
        "colab": {
          "base_uri": "https://localhost:8080/"
        },
        "id": "IaFEUky-x8qk",
        "outputId": "e265d71b-900f-45ea-a448-46902e2aaa50"
      },
      "execution_count": 4,
      "outputs": [
        {
          "output_type": "execute_result",
          "data": {
            "text/plain": [
              "array([ 0,  0,  0, ..., 38, 39, 40])"
            ]
          },
          "metadata": {},
          "execution_count": 4
        }
      ]
    },
    {
      "cell_type": "code",
      "source": [
        "tr=pd.read_csv(\"Testing.csv\")\n",
        "tr.replace({'prognosis':{'Fungal infection':0,'Allergy':1,'GERD':2,'Chronic cholestasis':3,'Drug Reaction':4,\n",
        "'Peptic ulcer diseae':5,'AIDS':6,'Diabetes ':7,'Gastroenteritis':8,'Bronchial Asthma':9,'Hypertension ':10,\n",
        "'Migraine':11,'Cervical spondylosis':12,\n",
        "'Paralysis (brain hemorrhage)':13,'Jaundice':14,'Malaria':15,'Chicken pox':16,'Dengue':17,'Typhoid':18,'hepatitis A':19,\n",
        "'Hepatitis B':20,'Hepatitis C':21,'Hepatitis D':22,'Hepatitis E':23,'Alcoholic hepatitis':24,'Tuberculosis':25,\n",
        "'Common Cold':26,'Pneumonia':27,'Dimorphic hemmorhoids(piles)':28,'Heart attack':29,'Varicose veins':30,'Hypothyroidism':31,\n",
        "'Hyperthyroidism':32,'Hypoglycemia':33,'Osteoarthristis':34,'Arthritis':35,\n",
        "'(vertigo) Paroymsal  Positional Vertigo':36,'Acne':37,'Urinary tract infection':38,'Psoriasis':39,\n",
        "'Impetigo':40}},inplace=True)\n",
        "\n",
        "X_test= tr[l1]\n",
        "y_test = tr[[\"prognosis\"]]\n",
        "np.ravel(y_test)\n",
        "# ----------------"
      ],
      "metadata": {
        "colab": {
          "base_uri": "https://localhost:8080/"
        },
        "id": "8HzvyKteyDar",
        "outputId": "3b6d2cd8-767d-44a2-a3a6-7829f33abd60"
      },
      "execution_count": 5,
      "outputs": [
        {
          "output_type": "execute_result",
          "data": {
            "text/plain": [
              "array([ 0,  1,  2,  3,  4,  5,  6,  7,  8,  9, 10, 11, 12, 13, 14, 15, 16,\n",
              "       17, 18, 19, 20, 21, 22, 23, 24, 25, 26, 27, 28, 29, 30, 31, 32, 33,\n",
              "       34, 35, 36, 37, 38, 39, 40])"
            ]
          },
          "metadata": {},
          "execution_count": 5
        }
      ]
    },
    {
      "cell_type": "code",
      "source": [
        "from sklearn import tree\n",
        "clf3 = tree.DecisionTreeClassifier()   # empty model of the decision tree\n",
        "clf3 = clf3.fit(X,y)\n",
        "\n",
        "# calculating accuracy-------------------------------------------------------------------\n",
        "from sklearn.metrics import accuracy_score\n",
        "y_pred=clf3.predict(X_test)\n",
        "print(accuracy_score(y_test, y_pred))\n",
        "print(accuracy_score(y_test, y_pred,normalize=False))\n",
        "# -----------------------------------------------------"
      ],
      "metadata": {
        "colab": {
          "base_uri": "https://localhost:8080/"
        },
        "id": "ZdNIRqN5zAn9",
        "outputId": "06e20727-f246-4be0-d185-9922eef51c3f"
      },
      "execution_count": 8,
      "outputs": [
        {
          "output_type": "stream",
          "name": "stdout",
          "text": [
            "0.9512195121951219\n",
            "39\n"
          ]
        }
      ]
    },
    {
      "cell_type": "code",
      "source": [
        "#Save the model as Pickle\n",
        "import pickle\n",
        "with open(r'rf.pkl','wb') as model_pkl:\n",
        "    pickle.dump(clf3, model_pkl, protocol=2)"
      ],
      "metadata": {
        "id": "1nigPZTr_xfo"
      },
      "execution_count": 14,
      "outputs": []
    },
    {
      "cell_type": "code",
      "source": [
        "!pip install flask_cors"
      ],
      "metadata": {
        "colab": {
          "base_uri": "https://localhost:8080/"
        },
        "id": "wCG-NxBczJZO",
        "outputId": "03a2f308-c86e-48d7-c026-12886ea0f6f0"
      },
      "execution_count": 12,
      "outputs": [
        {
          "output_type": "stream",
          "name": "stdout",
          "text": [
            "Looking in indexes: https://pypi.org/simple, https://us-python.pkg.dev/colab-wheels/public/simple/\n",
            "Collecting flask_cors\n",
            "  Downloading Flask_Cors-3.0.10-py2.py3-none-any.whl (14 kB)\n",
            "Requirement already satisfied: Six in /usr/local/lib/python3.7/dist-packages (from flask_cors) (1.15.0)\n",
            "Requirement already satisfied: Flask>=0.9 in /usr/local/lib/python3.7/dist-packages (from flask_cors) (1.1.4)\n",
            "Requirement already satisfied: itsdangerous<2.0,>=0.24 in /usr/local/lib/python3.7/dist-packages (from Flask>=0.9->flask_cors) (1.1.0)\n",
            "Requirement already satisfied: click<8.0,>=5.1 in /usr/local/lib/python3.7/dist-packages (from Flask>=0.9->flask_cors) (7.1.2)\n",
            "Requirement already satisfied: Werkzeug<2.0,>=0.15 in /usr/local/lib/python3.7/dist-packages (from Flask>=0.9->flask_cors) (1.0.1)\n",
            "Requirement already satisfied: Jinja2<3.0,>=2.10.1 in /usr/local/lib/python3.7/dist-packages (from Flask>=0.9->flask_cors) (2.11.3)\n",
            "Requirement already satisfied: MarkupSafe>=0.23 in /usr/local/lib/python3.7/dist-packages (from Jinja2<3.0,>=2.10.1->Flask>=0.9->flask_cors) (2.0.1)\n",
            "Installing collected packages: flask-cors\n",
            "Successfully installed flask-cors-3.0.10\n"
          ]
        }
      ]
    },
    {
      "cell_type": "code",
      "source": [
        "# Importing necessary libraries\n",
        "import numpy as np\n",
        "from flask import Flask, request, make_response\n",
        "import json\n",
        "import pickle\n",
        "from flask_cors import cross_origin\n",
        "\n",
        "# Declaring the flask app\n",
        "app = Flask(__name__)\n",
        "\n",
        "#Loading the model from pickle file\n",
        "model = pickle.load(open('rf.pkl', 'rb'))\n",
        "\n",
        "\n",
        "# geting and sending response to dialogflow\n",
        "@app.route('/webhook', methods=['POST'])\n",
        "@cross_origin()\n",
        "def webhook():\n",
        "\n",
        "\n",
        "    req = request.get_json(silent=True, force=True)\n",
        "    res = processRequest(req)\n",
        "    res = json.dumps(res, indent=4)\n",
        "    r = make_response(res)\n",
        "    r.headers['Content-Type'] = 'application/json'\n",
        "    return r"
      ],
      "metadata": {
        "id": "RGLyQg7xzTgk"
      },
      "execution_count": 15,
      "outputs": []
    },
    {
      "cell_type": "code",
      "source": [
        "# processing the request from dialogflow\n",
        "def processRequest(req):\n",
        "\n",
        "\n",
        "    result = req.get(\"queryResult\")\n",
        "    \n",
        "    #Fetching the data points\n",
        "    parameters = result.get(\"parameters\")\n",
        "    sys1 =parameters.get(\"Symptom1\")\n",
        "    sys2 =parameters.get(\"Symptom2\")\n",
        "    sys3 =parameters.get(\"Symptom3\")\n",
        "    int_features = [sys1,sys2,sys3]\n",
        "    \n",
        "    #Dumping the data into an array\n",
        "    final_features = [np.array(int_features)]\n",
        "    \n",
        "    #Getting the intent which has fullfilment enabled\n",
        "    intent = result.get(\"intent\").get('displayName')\n",
        "    \n",
        "    #Fitting out model with the data points\n",
        "    if (intent=='yes'):\n",
        "      prediction = model.predict(final_features)\n",
        "      for k in range(0,len(l1)):\n",
        "        for z in final_features:\n",
        "          if(z==l1[k]):\n",
        "            l2[k]=1\n",
        "\n",
        "      inputtest = [l2]\n",
        "      predict = clf4.predict(inputtest)\n",
        "      predicted=predict[0]\n",
        "\n",
        "      h='no'\n",
        "      for a in range(0,len(disease)):\n",
        "        if(predicted == a):\n",
        "          h='yes'\n",
        "          break\n",
        "\n",
        "    if (h=='yes'):\n",
        "        #Returning back the fullfilment text back to DialogFlow\n",
        "        fulfillmentText= \"I'm afraid you have..  {} !\".format(disease[a])        \n",
        "    else:\n",
        "        fulfillmentText= \"hmmm i'm not sure,visit a clinic please!\"        \n",
        "    \n",
        "        \n",
        "            \n",
        "\n",
        "        #log.write_log(sessionID, \"Bot Says: \"+fulfillmentText)\n",
        "        return {\n",
        "            \"fulfillmentText\": fulfillmentText\n",
        "        }\n",
        "\n",
        "\n",
        "if __name__ == '__main__':\n",
        "    app.run()"
      ],
      "metadata": {
        "colab": {
          "base_uri": "https://localhost:8080/"
        },
        "id": "NMQ0M3X9_dC-",
        "outputId": "272b78c1-477b-4284-d07a-b3025eefa3d9"
      },
      "execution_count": 17,
      "outputs": [
        {
          "output_type": "stream",
          "name": "stdout",
          "text": [
            " * Serving Flask app \"__main__\" (lazy loading)\n",
            " * Environment: production\n",
            "\u001b[31m   WARNING: This is a development server. Do not use it in a production deployment.\u001b[0m\n",
            "\u001b[2m   Use a production WSGI server instead.\u001b[0m\n",
            " * Debug mode: off\n"
          ]
        },
        {
          "output_type": "stream",
          "name": "stderr",
          "text": [
            "INFO:werkzeug: * Running on http://127.0.0.1:5000/ (Press CTRL+C to quit)\n"
          ]
        }
      ]
    },
    {
      "cell_type": "code",
      "source": [],
      "metadata": {
        "id": "SUHWdXodDX6O"
      },
      "execution_count": null,
      "outputs": []
    }
  ]
}